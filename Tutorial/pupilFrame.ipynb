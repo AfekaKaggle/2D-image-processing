{
 "cells": [
  {
   "cell_type": "code",
   "execution_count": 3,
   "metadata": {
    "collapsed": true
   },
   "outputs": [],
   "source": [
    "import numpy as np\n",
    "import cv2\n",
    "import time"
   ]
  },
  {
   "cell_type": "code",
   "execution_count": null,
   "metadata": {
    "collapsed": true
   },
   "outputs": [],
   "source": [
    "#cap = cv2.VideoCapture(0) \t#640,480\n",
    "#w = 640\n",
    "#h = 480\n",
    "#while(cap.isOpened()):\n",
    "#    ret, image = cap.read()\n",
    "#    if ret==True:\n",
    "#        frame = cv2.cvtColor(image,cv2.COLOR_RGB2GRAY)\n",
    "#        faces = cv2.CascadeClassifier('C:/Users/OR-PC/Desktop/orkatz/haarcascade_eye.xml')\n",
    "#        detected = faces.detectMultiScale(frame, 1.3, 5)\n",
    "#        pupilFrame = frame\n",
    "#        pupilO = frame\n",
    "#        windowClose = np.ones((5,5),np.uint8)\n",
    "#        windowOpen = np.ones((2,2),np.uint8)\n",
    "#        windowErode = np.ones((2,2),np.uint8) \n",
    "#        for (x,y,w,h) in detected:\n",
    "#            cv2.rectangle(frame, (x,y), ((x+w),(y+h)), (0,0,255),1)\t\n",
    "#            cv2.line(frame, (x,y), ((x+w,y+h)), (0,0,255),1)\n",
    "#            cv2.line(frame, (x+w,y), ((x,y+h)), (0,0,255),1)\n",
    "#            pupilFrame = cv2.equalizeHist(frame)\n",
    "#            pupilO = pupilFrame\n",
    "#            ret, pupilFrame = cv2.threshold(pupilFrame,55,255,cv2.THRESH_BINARY)\n",
    "#            pupilFrame = cv2.morphologyEx(pupilFrame, cv2.MORPH_CLOSE, windowClose)\n",
    "#            pupilFrame = cv2.morphologyEx(pupilFrame, cv2.MORPH_ERODE, windowErode)\n",
    "#            pupilFrame = cv2.morphologyEx(pupilFrame, cv2.MORPH_OPEN, windowOpen)\n",
    "#            threshold = cv2.inRange(pupilFrame,250,255)\n",
    "#            img2, contours, hierarchy = cv2.findContours(threshold,cv2.RETR_LIST,cv2.CHAIN_APPROX_SIMPLE)\n",
    "#            if len(contours) >= 2:\n",
    "#                maxArea = 0\n",
    "#                MAindex = 0 \n",
    "#                distanceX = []\n",
    "#                currentIndex = 0 \n",
    "#                for cnt in contours:\n",
    "#                    area = cv2.contourArea(cnt)\n",
    "#                    center = cv2.moments(cnt)\n",
    "#                    cx,cy = int(center['m10']/center['m00']), int(center['m01']/center['m00'])\n",
    "#                    distanceX.append(cx)\n",
    "#                    if area > maxArea:\n",
    "#                        maxArea = area\n",
    "#                        MAindex = currentIndex\n",
    "#                    currentIndex = currentIndex + 1\n",
    "#                del contours[MAindex]\n",
    "#                del distanceX[MAindex]\n",
    "#            eye = 'right'\n",
    "#            if len(contours) >= 2:\n",
    "#                if eye == 'right':\n",
    "#                    edgeOfEye = distanceX.index(min(distanceX))\n",
    "#                else:\n",
    "#                    edgeOfEye = distanceX.index(max(distanceX))\t\n",
    "#                del contours[edgeOfEye]\n",
    "#                del distanceX[edgeOfEye]\n",
    "#            if len(contours) >= 1:\n",
    "#                maxArea = 0\n",
    "#                for cnt in contours:\n",
    "#                    area = cv2.contourArea(cnt)\n",
    "#                    if area > maxArea:\n",
    "#                        maxArea = area\n",
    "#                        largeBlob = cnt\n",
    "#            if len(largeBlob) > 0:\n",
    "#                center = cv2.moments(largeBlob)\n",
    "#                cx,cy = int(center['m10']/center['m00']), int(center['m01']/center['m00'])\n",
    "#                cv2.circle(pupilO,(cx,cy),5,255,-1)\n",
    "#        cv2.imshow('frame',pupilO)\n",
    "#        cv2.imshow('frame2',pupilFrame)\n",
    "#        if cv2.waitKey(1) & 0xFF == ord('q'):\n",
    "#            break\n",
    "#cap.release()\n",
    "#cv2.destroyAllWindows()"
   ]
  },
  {
   "cell_type": "code",
   "execution_count": 20,
   "metadata": {
    "collapsed": false
   },
   "outputs": [],
   "source": [
    "image = cv2.imread('4.jpg')\n",
    "frame = cv2.cvtColor(image,cv2.COLOR_RGB2GRAY)\n",
    "faces = cv2.CascadeClassifier('C:/Users/OR-PC/Desktop/orkatz/haarcascade_eye.xml')\n",
    "detected = faces.detectMultiScale(frame, 1.3, 5)\n",
    "pupilFrame = frame\n",
    "pupilO = frame\n",
    "windowClose = np.ones((5,5),np.uint8)\n",
    "windowOpen = np.ones((2,2),np.uint8)\n",
    "windowErode = np.ones((2,2),np.uint8)"
   ]
  },
  {
   "cell_type": "code",
   "execution_count": 21,
   "metadata": {
    "collapsed": false
   },
   "outputs": [
    {
     "name": "stdout",
     "output_type": "stream",
     "text": [
      "1431 1521 536 536\n"
     ]
    },
    {
     "data": {
      "text/plain": [
       "array([[1431, 1521,  536,  536]])"
      ]
     },
     "execution_count": 21,
     "metadata": {},
     "output_type": "execute_result"
    }
   ],
   "source": [
    "for (x,y,w,h) in detected:\n",
    "    print x,y,w,h\n",
    "    cv2.rectangle(frame, (x,y), ((x+w),(y+h)), (0,0,255),1)\t\n",
    "    cv2.line(frame, (x,y), ((x+w,y+h)), (0,0,255),1)\n",
    "    cv2.line(frame, (x+w,y), ((x,y+h)), (0,0,255),1)\n",
    "    pupilFrame = cv2.equalizeHist(frame)\n",
    "    pupilO = pupilFrame\n",
    "    ret, pupilFrame = cv2.threshold(pupilFrame,55,255,cv2.THRESH_BINARY)\n",
    "    pupilFrame = cv2.morphologyEx(pupilFrame, cv2.MORPH_CLOSE, windowClose)\n",
    "    pupilFrame = cv2.morphologyEx(pupilFrame, cv2.MORPH_ERODE, windowErode)\n",
    "    pupilFrame = cv2.morphologyEx(pupilFrame, cv2.MORPH_OPEN, windowOpen)\n",
    "    threshold = cv2.inRange(pupilFrame,250,255)\n",
    "    img2, contours, hierarchy = cv2.findContours(threshold,cv2.RETR_LIST,cv2.CHAIN_APPROX_SIMPLE)\n",
    "detected"
   ]
  },
  {
   "cell_type": "code",
   "execution_count": 22,
   "metadata": {
    "collapsed": false
   },
   "outputs": [],
   "source": [
    "if len(contours) >= 2:\n",
    "    maxArea = 0\n",
    "    MAindex = 0 \n",
    "    distanceX = []\n",
    "    currentIndex = 0 \n",
    "    for cnt in contours:\n",
    "        area = cv2.contourArea(cnt)\n",
    "        center = cv2.moments(cnt)\n",
    "        try:\n",
    "            cx,cy = int(center['m10']/center['m00']), int(center['m01']/center['m00'])\n",
    "        except:\n",
    "            cx,cy = 1,1\n",
    "        distanceX.append(cx)\n",
    "        if area > maxArea:\n",
    "            maxArea = area\n",
    "            MAindex = currentIndex\n",
    "        currentIndex = currentIndex + 1\n",
    "    del contours[MAindex]\n",
    "    del distanceX[MAindex]\n",
    "eye = 'right'"
   ]
  },
  {
   "cell_type": "code",
   "execution_count": 23,
   "metadata": {
    "collapsed": false
   },
   "outputs": [
    {
     "data": {
      "text/plain": [
       "0"
      ]
     },
     "execution_count": 23,
     "metadata": {},
     "output_type": "execute_result"
    }
   ],
   "source": [
    "if len(contours) >= 2:\n",
    "    if eye == 'right':\n",
    "        edgeOfEye = distanceX.index(min(distanceX))\n",
    "    else:\n",
    "        edgeOfEye = distanceX.index(max(distanceX))\n",
    "    del contours[edgeOfEye]\n",
    "    del distanceX[edgeOfEye]\n",
    "edgeOfEye"
   ]
  },
  {
   "cell_type": "code",
   "execution_count": 24,
   "metadata": {
    "collapsed": true
   },
   "outputs": [],
   "source": [
    "if len(contours) >= 1:\n",
    "    maxArea = 0\n",
    "    for cnt in contours:\n",
    "        area = cv2.contourArea(cnt)\n",
    "        if area > maxArea:\n",
    "            maxArea = area\n",
    "            largeBlob = cnt"
   ]
  },
  {
   "cell_type": "code",
   "execution_count": 25,
   "metadata": {
    "collapsed": false
   },
   "outputs": [
    {
     "data": {
      "text/plain": [
       "(1523, 1330)"
      ]
     },
     "execution_count": 25,
     "metadata": {},
     "output_type": "execute_result"
    }
   ],
   "source": [
    "if len(largeBlob) > 0:\n",
    "    center = cv2.moments(largeBlob)\n",
    "    cx,cy = int(center['m10']/center['m00']), int(center['m01']/center['m00'])\n",
    "    cv2.circle(pupilO,(cx,cy),5,255,-1)\n",
    "cx,cy"
   ]
  },
  {
   "cell_type": "code",
   "execution_count": 26,
   "metadata": {
    "collapsed": false
   },
   "outputs": [
    {
     "data": {
      "text/plain": [
       "True"
      ]
     },
     "execution_count": 26,
     "metadata": {},
     "output_type": "execute_result"
    }
   ],
   "source": [
    "cv2.imwrite('pupilO.png',pupilO)\n",
    "cv2.imwrite('pupilFrame.png',pupilFrame)"
   ]
  },
  {
   "cell_type": "code",
   "execution_count": 21,
   "metadata": {
    "collapsed": false
   },
   "outputs": [],
   "source": [
    ""
   ]
  }
 ],
 "metadata": {
  "kernelspec": {
   "display_name": "Python 2",
   "language": "python",
   "name": "python2"
  },
  "language_info": {
   "codemirror_mode": {
    "name": "ipython",
    "version": 2.0
   },
   "file_extension": ".py",
   "mimetype": "text/x-python",
   "name": "python",
   "nbconvert_exporter": "python",
   "pygments_lexer": "ipython2",
   "version": "2.7.13"
  }
 },
 "nbformat": 4,
 "nbformat_minor": 0
}